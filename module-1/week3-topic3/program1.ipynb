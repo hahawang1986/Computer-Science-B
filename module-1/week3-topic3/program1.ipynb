{
 "cells": [
  {
   "cell_type": "code",
   "execution_count": 2,
   "metadata": {},
   "outputs": [
    {
     "name": "stdout",
     "output_type": "stream",
     "text": [
      "--Return--\n",
      "> <ipython-input-2-62bdb32db22f>(6)<module>()->None\n",
      "-> pdb.set_trace()\n",
      "(Pdb) b 7\n",
      "Breakpoint 1 at <ipython-input-2-62bdb32db22f>:7\n",
      "(Pdb) b 9\n",
      "Breakpoint 2 at <ipython-input-2-62bdb32db22f>:9\n",
      "(Pdb) l\n",
      "  1  \t# %load program1.py\n",
      "  2  \t# A program to display the multiples of 3 between 1 and 20\n",
      "  3  \t# e.g. 3,6,9,12,15,18\n",
      "  4  \timport pdb\n",
      "  5  \ti = 3\n",
      "  6  ->\tpdb.set_trace()\n",
      "  7 B\twhile i!=20:\n",
      "  8  \t    print(i)\n",
      "  9 B\t    i+=3\n",
      "[EOF]\n",
      "(Pdb) n\n",
      "> /usr/local/lib/python3.7/site-packages/IPython/core/interactiveshell.py(3329)run_code()\n",
      "-> sys.excepthook = old_excepthook\n",
      "(Pdb) c\n",
      "> <ipython-input-2-62bdb32db22f>(7)<module>()->None\n",
      "-> while i!=20:\n",
      "(Pdb) i\n",
      "3\n",
      "(Pdb) n\n",
      "> <ipython-input-2-62bdb32db22f>(8)<module>()->None\n",
      "-> print(i)\n",
      "(Pdb) n\n",
      "3\n",
      "> <ipython-input-2-62bdb32db22f>(9)<module>()->None\n",
      "-> i+=3\n",
      "(Pdb) n\n",
      "> <ipython-input-2-62bdb32db22f>(7)<module>()->None\n",
      "-> while i!=20:\n",
      "(Pdb) i\n",
      "6\n",
      "(Pdb) c\n",
      "6\n",
      "> <ipython-input-2-62bdb32db22f>(9)<module>()->None\n",
      "-> i+=3\n",
      "(Pdb) c\n",
      "> <ipython-input-2-62bdb32db22f>(7)<module>()->None\n",
      "-> while i!=20:\n",
      "(Pdb) c\n",
      "9\n",
      "> <ipython-input-2-62bdb32db22f>(9)<module>()->None\n",
      "-> i+=3\n",
      "(Pdb) c\n",
      "> <ipython-input-2-62bdb32db22f>(7)<module>()->None\n",
      "-> while i!=20:\n",
      "(Pdb) c\n",
      "12\n",
      "> <ipython-input-2-62bdb32db22f>(9)<module>()->None\n",
      "-> i+=3\n",
      "(Pdb) c\n",
      "> <ipython-input-2-62bdb32db22f>(7)<module>()->None\n",
      "-> while i!=20:\n",
      "(Pdb) c\n",
      "15\n",
      "> <ipython-input-2-62bdb32db22f>(9)<module>()->None\n",
      "-> i+=3\n",
      "(Pdb) c\n",
      "> <ipython-input-2-62bdb32db22f>(7)<module>()->None\n",
      "-> while i!=20:\n",
      "(Pdb) c\n",
      "18\n",
      "> <ipython-input-2-62bdb32db22f>(9)<module>()->None\n",
      "-> i+=3\n",
      "(Pdb) c\n",
      "> <ipython-input-2-62bdb32db22f>(7)<module>()->None\n",
      "-> while i!=20:\n",
      "(Pdb) c\n",
      "21\n",
      "> <ipython-input-2-62bdb32db22f>(9)<module>()->None\n",
      "-> i+=3\n",
      "(Pdb) n\n",
      "> <ipython-input-2-62bdb32db22f>(7)<module>()->None\n",
      "-> while i!=20:\n",
      "(Pdb) n\n",
      "> <ipython-input-2-62bdb32db22f>(8)<module>()->None\n",
      "-> print(i)\n",
      "(Pdb) n\n",
      "24\n",
      "> <ipython-input-2-62bdb32db22f>(9)<module>()->None\n",
      "-> i+=3\n",
      "(Pdb) n\n",
      "> <ipython-input-2-62bdb32db22f>(7)<module>()->None\n",
      "-> while i!=20:\n",
      "(Pdb) q\n"
     ]
    },
    {
     "ename": "BdbQuit",
     "evalue": "",
     "output_type": "error",
     "traceback": [
      "\u001b[0;31m---------------------------------------------------------------------------\u001b[0m",
      "\u001b[0;31mBdbQuit\u001b[0m                                   Traceback (most recent call last)",
      "\u001b[0;32m<ipython-input-2-62bdb32db22f>\u001b[0m in \u001b[0;36m<module>\u001b[0;34m\u001b[0m\n\u001b[1;32m      5\u001b[0m \u001b[0mi\u001b[0m \u001b[0;34m=\u001b[0m \u001b[0;36m3\u001b[0m\u001b[0;34m\u001b[0m\u001b[0;34m\u001b[0m\u001b[0m\n\u001b[1;32m      6\u001b[0m \u001b[0mpdb\u001b[0m\u001b[0;34m.\u001b[0m\u001b[0mset_trace\u001b[0m\u001b[0;34m(\u001b[0m\u001b[0;34m)\u001b[0m\u001b[0;34m\u001b[0m\u001b[0;34m\u001b[0m\u001b[0m\n\u001b[0;32m----> 7\u001b[0;31m \u001b[0;32mwhile\u001b[0m \u001b[0mi\u001b[0m\u001b[0;34m!=\u001b[0m\u001b[0;36m20\u001b[0m\u001b[0;34m:\u001b[0m\u001b[0;34m\u001b[0m\u001b[0;34m\u001b[0m\u001b[0m\n\u001b[0m\u001b[1;32m      8\u001b[0m     \u001b[0mprint\u001b[0m\u001b[0;34m(\u001b[0m\u001b[0mi\u001b[0m\u001b[0;34m)\u001b[0m\u001b[0;34m\u001b[0m\u001b[0;34m\u001b[0m\u001b[0m\n\u001b[1;32m      9\u001b[0m     \u001b[0mi\u001b[0m\u001b[0;34m+=\u001b[0m\u001b[0;36m3\u001b[0m\u001b[0;34m\u001b[0m\u001b[0;34m\u001b[0m\u001b[0m\n",
      "\u001b[0;32m<ipython-input-2-62bdb32db22f>\u001b[0m in \u001b[0;36m<module>\u001b[0;34m\u001b[0m\n\u001b[1;32m      5\u001b[0m \u001b[0mi\u001b[0m \u001b[0;34m=\u001b[0m \u001b[0;36m3\u001b[0m\u001b[0;34m\u001b[0m\u001b[0;34m\u001b[0m\u001b[0m\n\u001b[1;32m      6\u001b[0m \u001b[0mpdb\u001b[0m\u001b[0;34m.\u001b[0m\u001b[0mset_trace\u001b[0m\u001b[0;34m(\u001b[0m\u001b[0;34m)\u001b[0m\u001b[0;34m\u001b[0m\u001b[0;34m\u001b[0m\u001b[0m\n\u001b[0;32m----> 7\u001b[0;31m \u001b[0;32mwhile\u001b[0m \u001b[0mi\u001b[0m\u001b[0;34m!=\u001b[0m\u001b[0;36m20\u001b[0m\u001b[0;34m:\u001b[0m\u001b[0;34m\u001b[0m\u001b[0;34m\u001b[0m\u001b[0m\n\u001b[0m\u001b[1;32m      8\u001b[0m     \u001b[0mprint\u001b[0m\u001b[0;34m(\u001b[0m\u001b[0mi\u001b[0m\u001b[0;34m)\u001b[0m\u001b[0;34m\u001b[0m\u001b[0;34m\u001b[0m\u001b[0m\n\u001b[1;32m      9\u001b[0m     \u001b[0mi\u001b[0m\u001b[0;34m+=\u001b[0m\u001b[0;36m3\u001b[0m\u001b[0;34m\u001b[0m\u001b[0;34m\u001b[0m\u001b[0m\n",
      "\u001b[0;32m/usr/local/lib/python3.7/bdb.py\u001b[0m in \u001b[0;36mtrace_dispatch\u001b[0;34m(self, frame, event, arg)\u001b[0m\n\u001b[1;32m     86\u001b[0m             \u001b[0;32mreturn\u001b[0m \u001b[0;31m# None\u001b[0m\u001b[0;34m\u001b[0m\u001b[0;34m\u001b[0m\u001b[0m\n\u001b[1;32m     87\u001b[0m         \u001b[0;32mif\u001b[0m \u001b[0mevent\u001b[0m \u001b[0;34m==\u001b[0m \u001b[0;34m'line'\u001b[0m\u001b[0;34m:\u001b[0m\u001b[0;34m\u001b[0m\u001b[0;34m\u001b[0m\u001b[0m\n\u001b[0;32m---> 88\u001b[0;31m             \u001b[0;32mreturn\u001b[0m \u001b[0mself\u001b[0m\u001b[0;34m.\u001b[0m\u001b[0mdispatch_line\u001b[0m\u001b[0;34m(\u001b[0m\u001b[0mframe\u001b[0m\u001b[0;34m)\u001b[0m\u001b[0;34m\u001b[0m\u001b[0;34m\u001b[0m\u001b[0m\n\u001b[0m\u001b[1;32m     89\u001b[0m         \u001b[0;32mif\u001b[0m \u001b[0mevent\u001b[0m \u001b[0;34m==\u001b[0m \u001b[0;34m'call'\u001b[0m\u001b[0;34m:\u001b[0m\u001b[0;34m\u001b[0m\u001b[0;34m\u001b[0m\u001b[0m\n\u001b[1;32m     90\u001b[0m             \u001b[0;32mreturn\u001b[0m \u001b[0mself\u001b[0m\u001b[0;34m.\u001b[0m\u001b[0mdispatch_call\u001b[0m\u001b[0;34m(\u001b[0m\u001b[0mframe\u001b[0m\u001b[0;34m,\u001b[0m \u001b[0marg\u001b[0m\u001b[0;34m)\u001b[0m\u001b[0;34m\u001b[0m\u001b[0;34m\u001b[0m\u001b[0m\n",
      "\u001b[0;32m/usr/local/lib/python3.7/bdb.py\u001b[0m in \u001b[0;36mdispatch_line\u001b[0;34m(self, frame)\u001b[0m\n\u001b[1;32m    111\u001b[0m         \u001b[0;32mif\u001b[0m \u001b[0mself\u001b[0m\u001b[0;34m.\u001b[0m\u001b[0mstop_here\u001b[0m\u001b[0;34m(\u001b[0m\u001b[0mframe\u001b[0m\u001b[0;34m)\u001b[0m \u001b[0;32mor\u001b[0m \u001b[0mself\u001b[0m\u001b[0;34m.\u001b[0m\u001b[0mbreak_here\u001b[0m\u001b[0;34m(\u001b[0m\u001b[0mframe\u001b[0m\u001b[0;34m)\u001b[0m\u001b[0;34m:\u001b[0m\u001b[0;34m\u001b[0m\u001b[0;34m\u001b[0m\u001b[0m\n\u001b[1;32m    112\u001b[0m             \u001b[0mself\u001b[0m\u001b[0;34m.\u001b[0m\u001b[0muser_line\u001b[0m\u001b[0;34m(\u001b[0m\u001b[0mframe\u001b[0m\u001b[0;34m)\u001b[0m\u001b[0;34m\u001b[0m\u001b[0;34m\u001b[0m\u001b[0m\n\u001b[0;32m--> 113\u001b[0;31m             \u001b[0;32mif\u001b[0m \u001b[0mself\u001b[0m\u001b[0;34m.\u001b[0m\u001b[0mquitting\u001b[0m\u001b[0;34m:\u001b[0m \u001b[0;32mraise\u001b[0m \u001b[0mBdbQuit\u001b[0m\u001b[0;34m\u001b[0m\u001b[0;34m\u001b[0m\u001b[0m\n\u001b[0m\u001b[1;32m    114\u001b[0m         \u001b[0;32mreturn\u001b[0m \u001b[0mself\u001b[0m\u001b[0;34m.\u001b[0m\u001b[0mtrace_dispatch\u001b[0m\u001b[0;34m\u001b[0m\u001b[0;34m\u001b[0m\u001b[0m\n\u001b[1;32m    115\u001b[0m \u001b[0;34m\u001b[0m\u001b[0m\n",
      "\u001b[0;31mBdbQuit\u001b[0m: "
     ]
    }
   ],
   "source": [
    "# %load program1.py \n",
    "# A program to display the multiples of 3 between 1 and 20\n",
    "# e.g. 3,6,9,12,15,18\n",
    "import pdb\n",
    "i = 3\n",
    "pdb.set_trace()\n",
    "while i!=20:\n",
    "    print(i)\n",
    "    i+=3\n"
   ]
  },
  {
   "cell_type": "code",
   "execution_count": 5,
   "metadata": {},
   "outputs": [
    {
     "name": "stdout",
     "output_type": "stream",
     "text": [
      "--Return--\n",
      "> <ipython-input-5-b56d3495377a>(3)<module>()->None\n",
      "-> pdb.set_trace()\n",
      "(Pdb) b\n",
      "(Pdb) c\n",
      "3\n",
      "6\n",
      "9\n",
      "12\n",
      "15\n",
      "18\n"
     ]
    }
   ],
   "source": [
    "import pdb\n",
    "i = 3\n",
    "pdb.set_trace()\n",
    "while i< 20:\n",
    "    print(i)\n",
    "    i+=3"
   ]
  }
 ],
 "metadata": {
  "kernelspec": {
   "display_name": "Python 3",
   "language": "python",
   "name": "python3"
  },
  "language_info": {
   "codemirror_mode": {
    "name": "ipython",
    "version": 3
   },
   "file_extension": ".py",
   "mimetype": "text/x-python",
   "name": "python",
   "nbconvert_exporter": "python",
   "pygments_lexer": "ipython3",
   "version": "3.7.4"
  }
 },
 "nbformat": 4,
 "nbformat_minor": 2
}
