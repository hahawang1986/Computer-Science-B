{
 "cells": [
  {
   "cell_type": "code",
   "execution_count": 8,
   "metadata": {},
   "outputs": [
    {
     "name": "stdout",
     "output_type": "stream",
     "text": [
      "Enter a number: 1\n",
      "Enter a number: 2\n",
      "Enter a number: 3\n",
      "Enter a number: a\n",
      "the error is [\"invalid literal for int() with base 10: 'a'\"],we will set current to 0 for subsequent code execution\n",
      "Enter a number: 0\n",
      "16\n",
      "the count of error is 1\n"
     ]
    }
   ],
   "source": [
    "## %load program5.py\n",
    "# A program to add numbers until the user enters 0, then print the total\n",
    "\n",
    "total = 0\n",
    "current = -1\n",
    "error_count = 0\n",
    "\n",
    "while (current!=0):\n",
    "    try:\n",
    "        current = int(input('Enter a number: '));\n",
    "    except (TypeError,ValueError) as e1:\n",
    "        print(f\"the error is {[str(e1)]},we will set current to 0 for subsequent code execution\")\n",
    "        error_count += 1\n",
    "        current = 10\n",
    "        continue\n",
    "    except:\n",
    "        print(\"there are some other errors\")\n",
    "        raise\n",
    "    total = total + current\n",
    "    #continue\n",
    "print(total)\n",
    "print(f\"the count of error is {error_count}\")\n",
    "\n",
    "# Hint: What happens if a user types in something other than a number?"
   ]
  }
 ],
 "metadata": {
  "kernelspec": {
   "display_name": "Python 3",
   "language": "python",
   "name": "python3"
  },
  "language_info": {
   "codemirror_mode": {
    "name": "ipython",
    "version": 3
   },
   "file_extension": ".py",
   "mimetype": "text/x-python",
   "name": "python",
   "nbconvert_exporter": "python",
   "pygments_lexer": "ipython3",
   "version": "3.7.4"
  }
 },
 "nbformat": 4,
 "nbformat_minor": 2
}
