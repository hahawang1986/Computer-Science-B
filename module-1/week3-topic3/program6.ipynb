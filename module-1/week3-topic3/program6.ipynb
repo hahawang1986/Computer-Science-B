{
 "cells": [
  {
   "cell_type": "code",
   "execution_count": 1,
   "metadata": {},
   "outputs": [],
   "source": [
    "# # %load program6.py\n",
    "# # A program to multiply two even numbers\n",
    "\n",
    "# total = 0\n",
    "# number1 = int(input('Enter a number: '))\n",
    "# if (number1%2 == 0):\n",
    "#     number2 = int(input('Enter a number: '))\n",
    "# else:\n",
    "#     print('Number not even.')\n",
    "\n",
    "# if (number2%2 == 0):\n",
    "#     print(number1*number2);\n",
    "# else:\n",
    "#     print('Number not even.')"
   ]
  },
  {
   "cell_type": "code",
   "execution_count": 4,
   "metadata": {},
   "outputs": [
    {
     "name": "stdout",
     "output_type": "stream",
     "text": [
      "Enter the first even number: 1\n",
      "Error: Please enter an even number.\n",
      "Enter the first even number: 2\n",
      "Enter the second even number: 1\n",
      "Error: Please enter an even number.\n",
      "Enter the second even number: 2\n",
      "The product of 2 and 2 is 4\n"
     ]
    }
   ],
   "source": [
    "flag = 0\n",
    "while flag == 0:\n",
    "    num1 = int(input(\"Enter the first even number: \"))\n",
    "    if num1 % 2 != 0:\n",
    "        print(\"Error: Please enter an even number.\")\n",
    "        continue\n",
    "    else:\n",
    "        while flag == 0:\n",
    "            num2 = int(input(\"Enter the second even number: \"))\n",
    "            if num2 % 2 != 0:\n",
    "                print(\"Error: Please enter an even number.\")\n",
    "                continue  \n",
    "            else:\n",
    "                result = num1 * num2\n",
    "                print(\"The product of\", num1, \"and\", num2, \"is\", result)\n",
    "                flag = 1\n",
    "                #break\n"
   ]
  }
 ],
 "metadata": {
  "kernelspec": {
   "display_name": "Python 3",
   "language": "python",
   "name": "python3"
  },
  "language_info": {
   "codemirror_mode": {
    "name": "ipython",
    "version": 3
   },
   "file_extension": ".py",
   "mimetype": "text/x-python",
   "name": "python",
   "nbconvert_exporter": "python",
   "pygments_lexer": "ipython3",
   "version": "3.7.4"
  }
 },
 "nbformat": 4,
 "nbformat_minor": 2
}
